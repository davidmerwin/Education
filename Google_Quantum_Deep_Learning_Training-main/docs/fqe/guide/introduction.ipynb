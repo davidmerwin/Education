{
  "cells": [
    {
      "cell_type": "markdown",
      "metadata": {
        "id": "view-in-github",
        "colab_type": "text"
      },
      "source": [
        "<a href=\"https://colab.research.google.com/github/davidmerwin/Google_Quantum_Deep_Learning_Training/blob/main/docs/fqe/guide/introduction.ipynb\" target=\"_parent\"><img src=\"https://colab.research.google.com/assets/colab-badge.svg\" alt=\"Open In Colab\"/></a>"
      ]
    },
    {
      "cell_type": "markdown",
      "metadata": {
        "id": "38MpFnK_fGJy"
      },
      "source": [
        "##### Copyright 2020 The OpenFermion Developers"
      ]
    },
    {
      "cell_type": "code",
      "execution_count": 1,
      "metadata": {
        "id": "Jyps14LWfGJ2"
      },
      "outputs": [],
      "source": [
        "#@title Licensed under the Apache License, Version 2.0 (the \"License\");\n",
        "# you may not use this file except in compliance with the License.\n",
        "# You may obtain a copy of the License at\n",
        "#\n",
        "# https://www.apache.org/licenses/LICENSE-2.0\n",
        "#\n",
        "# Unless required by applicable law or agreed to in writing, software\n",
        "# distributed under the License is distributed on an \"AS IS\" BASIS,\n",
        "# WITHOUT WARRANTIES OR CONDITIONS OF ANY KIND, either express or implied.\n",
        "# See the License for the specific language governing permissions and\n",
        "# limitations under the License."
      ]
    },
    {
      "cell_type": "markdown",
      "metadata": {
        "id": "h3KUQpDtfGJ3"
      },
      "source": [
        "# Introduction to FQE"
      ]
    },
    {
      "cell_type": "markdown",
      "metadata": {
        "id": "9I9pSQXefGJ4"
      },
      "source": [
        "<table class=\"tfo-notebook-buttons\" align=\"left\">\n",
        "  <td>\n",
        "    <a target=\"_blank\" href=\"https://quantumai.google/openfermion/fqe/guide/introduction\"><img src=\"https://quantumai.google/site-assets/images/buttons/quantumai_logo_1x.png\" />View on QuantumAI</a>\n",
        "  </td>\n",
        "  <td>\n",
        "    <a target=\"_blank\" href=\"https://colab.research.google.com/github/quantumlib/OpenFermion/blob/master/docs/fqe/guide/introduction.ipynb\"><img src=\"https://quantumai.google/site-assets/images/buttons/colab_logo_1x.png\" />Run in Google Colab</a>\n",
        "  </td>\n",
        "  <td>\n",
        "    <a target=\"_blank\" href=\"https://github.com/quantumlib/OpenFermion/blob/master/docs/fqe/guide/introduction.ipynb\"><img src=\"https://quantumai.google/site-assets/images/buttons/github_logo_1x.png\" />View source on GitHub</a>\n",
        "  </td>\n",
        "  <td>\n",
        "    <a href=\"https://storage.googleapis.com/tensorflow_docs/OpenFermion/docs/fqe/guide/introduction.ipynb\"><img src=\"https://quantumai.google/site-assets/images/buttons/download_icon_1x.png\" />Download notebook</a>\n",
        "  </td>\n",
        "</table>"
      ]
    },
    {
      "cell_type": "markdown",
      "metadata": {
        "id": "CyHIASjLfGJ4"
      },
      "source": [
        "OpenFermion-FQE is an emulator for quantum computing specialized for simulations of Fermionic many-body problems, where FQE stands for 'Fermionic quantum emulator.' By focusing on Fermionic physics, OpenFermion-FQE realizes far more efficient emulation of quantum computing than generic quantum emulators such as Cirq, both in computation and memory costs; the speed-up and improved memory footprint originate from the use of the spin and number symmetries as well as highly optimized special algorithms.\n",
        "\n",
        "The examples of the problems that can be simulated by OpenFermion-FQE include those in molecular electronic structure, condensed matter physics, and nuclear physics.\n",
        "\n",
        "The initial version of OpenFermion-FQE has been developed in collaboration between [QSimulate](https://qsimulate.com)  and [Google Quantum AI](https://quantumai.google/). The source code is found in the GitHub repository (https://github.com/quantumlib/OpenFermion-FQE).\n",
        "\n",
        "This tutorial will describe the data structures and conventions of the library."
      ]
    },
    {
      "cell_type": "code",
      "execution_count": 2,
      "metadata": {
        "colab": {
          "base_uri": "https://localhost:8080/"
        },
        "id": "UHP2yJTDfGJ5",
        "outputId": "b90648f6-3a7b-4f5d-ffb5-ef5123d71e9e"
      },
      "outputs": [
        {
          "output_type": "stream",
          "name": "stdout",
          "text": [
            "\u001b[?25l     \u001b[90m━━━━━━━━━━━━━━━━━━━━━━━━━━━━━━━━━━━━━━━━\u001b[0m \u001b[32m0.0/148.1 kB\u001b[0m \u001b[31m?\u001b[0m eta \u001b[36m-:--:--\u001b[0m\r\u001b[2K     \u001b[91m━━━━━━━━━━━━━━━━━━━\u001b[0m\u001b[90m╺\u001b[0m\u001b[90m━━━━━━━━━━━━━━━━━━━━\u001b[0m \u001b[32m71.7/148.1 kB\u001b[0m \u001b[31m1.9 MB/s\u001b[0m eta \u001b[36m0:00:01\u001b[0m\r\u001b[2K     \u001b[90m━━━━━━━━━━━━━━━━━━━━━━━━━━━━━━━━━━━━━━━\u001b[0m \u001b[32m148.1/148.1 kB\u001b[0m \u001b[31m2.7 MB/s\u001b[0m eta \u001b[36m0:00:00\u001b[0m\n",
            "\u001b[?25h  Installing build dependencies ... \u001b[?25l\u001b[?25hdone\n",
            "  Getting requirements to build wheel ... \u001b[?25l\u001b[?25hdone\n",
            "  Preparing metadata (pyproject.toml) ... \u001b[?25l\u001b[?25hdone\n",
            "\u001b[2K     \u001b[90m━━━━━━━━━━━━━━━━━━━━━━━━━━━━━━━━━━━━━━━━\u001b[0m \u001b[32m1.1/1.1 MB\u001b[0m \u001b[31m8.5 MB/s\u001b[0m eta \u001b[36m0:00:00\u001b[0m\n",
            "\u001b[2K     \u001b[90m━━━━━━━━━━━━━━━━━━━━━━━━━━━━━━━━━━━━━━━━\u001b[0m \u001b[32m1.8/1.8 MB\u001b[0m \u001b[31m13.9 MB/s\u001b[0m eta \u001b[36m0:00:00\u001b[0m\n",
            "\u001b[2K     \u001b[90m━━━━━━━━━━━━━━━━━━━━━━━━━━━━━━━━━━━━━━\u001b[0m \u001b[32m579.1/579.1 kB\u001b[0m \u001b[31m15.5 MB/s\u001b[0m eta \u001b[36m0:00:00\u001b[0m\n",
            "\u001b[2K     \u001b[90m━━━━━━━━━━━━━━━━━━━━━━━━━━━━━━━━━━━━━━━\u001b[0m \u001b[32m131.4/131.4 kB\u001b[0m \u001b[31m9.9 MB/s\u001b[0m eta \u001b[36m0:00:00\u001b[0m\n",
            "\u001b[2K     \u001b[90m━━━━━━━━━━━━━━━━━━━━━━━━━━━━━━━━━━━━━━━━\u001b[0m \u001b[32m77.1/77.1 kB\u001b[0m \u001b[31m7.5 MB/s\u001b[0m eta \u001b[36m0:00:00\u001b[0m\n",
            "\u001b[?25h  Preparing metadata (setup.py) ... \u001b[?25l\u001b[?25hdone\n",
            "\u001b[2K     \u001b[90m━━━━━━━━━━━━━━━━━━━━━━━━━━━━━━━━━━━━━━\u001b[0m \u001b[32m121.9/121.9 kB\u001b[0m \u001b[31m12.8 MB/s\u001b[0m eta \u001b[36m0:00:00\u001b[0m\n",
            "\u001b[2K     \u001b[90m━━━━━━━━━━━━━━━━━━━━━━━━━━━━━━━━━━━━━━━━\u001b[0m \u001b[32m93.4/93.4 kB\u001b[0m \u001b[31m9.1 MB/s\u001b[0m eta \u001b[36m0:00:00\u001b[0m\n",
            "\u001b[2K     \u001b[90m━━━━━━━━━━━━━━━━━━━━━━━━━━━━━━━━━━━━━━━━\u001b[0m \u001b[32m1.6/1.6 MB\u001b[0m \u001b[31m20.8 MB/s\u001b[0m eta \u001b[36m0:00:00\u001b[0m\n",
            "\u001b[?25h  Building wheel for fqe (pyproject.toml) ... \u001b[?25l\u001b[?25hdone\n",
            "  Building wheel for pubchempy (setup.py) ... \u001b[?25l\u001b[?25hdone\n"
          ]
        }
      ],
      "source": [
        "try:\n",
        "    import fqe\n",
        "except ImportError:\n",
        "    !pip install fqe --quiet"
      ]
    },
    {
      "cell_type": "code",
      "execution_count": 3,
      "metadata": {
        "id": "74dEFUCZfGJ5"
      },
      "outputs": [],
      "source": [
        "import fqe\n",
        "import numpy as np"
      ]
    },
    {
      "cell_type": "markdown",
      "metadata": {
        "id": "DYu1hXjxfGJ5"
      },
      "source": [
        "## The FQE Wavefunction"
      ]
    },
    {
      "cell_type": "markdown",
      "metadata": {
        "id": "U5PDzlJ3fGJ6"
      },
      "source": [
        "The `Wavefunction` is an interface to the objects that hold the actual wavefunction data.  As mentioned, the wavefunction is partitioned into sectors with fixed particle and $Sz$ quantum number.  This partitioning information is the necessary information for initializing a `Wavefunction` object.  \n",
        "\n",
        "As an example, we consider initializing a wavefunction with four spatial orbitals, four electrons, and different $Sz$ expectation values.  The `Wavefunction` object takes a list of these sectors `[[n_electrons, sz, n_orbits]]`."
      ]
    },
    {
      "cell_type": "code",
      "execution_count": 4,
      "metadata": {
        "id": "pKeDyq8ofGJ6"
      },
      "outputs": [],
      "source": [
        "wfn = fqe.Wavefunction([[4, 4, 4], [4, 2, 4], [4, 0, 4], [4, -2, 4], [4, -4, 4]])"
      ]
    },
    {
      "cell_type": "markdown",
      "metadata": {
        "id": "CfVXVb_WfGJ7"
      },
      "source": [
        "This command initializes a wavefunction with the following block structure:"
      ]
    },
    {
      "cell_type": "markdown",
      "metadata": {
        "id": "qp6w390SfGJ7"
      },
      "source": [
        "![Image of wf sectors](https://github.com/quantumlib/OpenFermion/blob/master/docs/fqe/guide/wf_init_sectors.png?raw=1)"
      ]
    },
    {
      "cell_type": "markdown",
      "metadata": {
        "id": "6XIVCYV0fGJ7"
      },
      "source": [
        "Each sector corresponds to a set of bit strings\n",
        "\n",
        "$$\n",
        "\\vert I \\rangle = \\vert I_{\\alpha}I_{\\beta}\\rangle\n",
        "$$\n",
        "\n",
        "that encode a fixed particle number and fixed $Sz$ expectation. The coefficients associated with the bitstrings in these sectors are formed into matrices.  This helps with efficient vectorized computations. The row-index of the array corresponds to the $\\alpha$ spin-orbital number occupation index and the column-index corresponds to the $\\beta$-strings.  The `Wavefunction` object provides tools to access sectors or perform basic mathematical operations on this *vector*.  "
      ]
    },
    {
      "cell_type": "markdown",
      "metadata": {
        "id": "3EgCBpRnfGJ7"
      },
      "source": [
        "## Methods to initialize wavefunctions"
      ]
    },
    {
      "cell_type": "markdown",
      "metadata": {
        "id": "vT5Qiv5TfGJ7"
      },
      "source": [
        "FQE wavefunctions can be initialized by calling the constructor directly."
      ]
    },
    {
      "cell_type": "code",
      "execution_count": 5,
      "metadata": {
        "id": "p2a6fgPIfGJ7"
      },
      "outputs": [],
      "source": [
        "wfn_fqe = fqe.Wavefunction([[2, -2, 4]], broken=None)"
      ]
    },
    {
      "cell_type": "markdown",
      "metadata": {
        "id": "lkElSPtqfGJ7"
      },
      "source": [
        "When wavefunctions are first created, they are initialized to empty values. We can see this by printing out the wavefunction."
      ]
    },
    {
      "cell_type": "code",
      "execution_count": 6,
      "metadata": {
        "colab": {
          "base_uri": "https://localhost:8080/"
        },
        "id": "-zH-L04sfGJ7",
        "outputId": "f4a51d2b-a809-47d8-99e3-b9b80c2e8a3a"
      },
      "outputs": [
        {
          "output_type": "stream",
          "name": "stdout",
          "text": [
            "Sector N = 2 : S_z = -2\n"
          ]
        }
      ],
      "source": [
        "wfn_fqe.print_wfn()"
      ]
    },
    {
      "cell_type": "markdown",
      "metadata": {
        "id": "vTNbHETWfGJ8"
      },
      "source": [
        "To set the values of a wavefunction, we can use the `set_wfn` method with a provided `strategy`."
      ]
    },
    {
      "cell_type": "code",
      "execution_count": 7,
      "metadata": {
        "colab": {
          "base_uri": "https://localhost:8080/"
        },
        "id": "WLvmjR3DfGJ8",
        "outputId": "374b9027-669f-4f64-d17d-1c4c84b22cf0"
      },
      "outputs": [
        {
          "output_type": "stream",
          "name": "stdout",
          "text": [
            "Sector N = 2 : S_z = -2\n",
            "a'0000'b'0011' (1+0j)\n"
          ]
        }
      ],
      "source": [
        "wfn_fqe.set_wfn(strategy=\"hartree-fock\")\n",
        "wfn_fqe.print_wfn()"
      ]
    },
    {
      "cell_type": "markdown",
      "metadata": {
        "id": "3y4cC3I0fGJ8"
      },
      "source": [
        "Users can access the wavefunction through the `get_sector` method.  This returns the entire matrix of data representing the specified sector of the wavefunction.  For example, we can grab the sector corresponding to $n = 2$ and $sz = -2$ by doing the following."
      ]
    },
    {
      "cell_type": "code",
      "execution_count": 8,
      "metadata": {
        "colab": {
          "base_uri": "https://localhost:8080/"
        },
        "id": "NRYISFJffGJ8",
        "outputId": "ea1d2521-d683-4b3c-a9ba-aa2b08b4be61"
      },
      "outputs": [
        {
          "output_type": "stream",
          "name": "stdout",
          "text": [
            "[[1.+0.j 0.+0.j 0.+0.j 0.+0.j 0.+0.j 0.+0.j]]\n"
          ]
        }
      ],
      "source": [
        "interesting_states = wfn_fqe.get_coeff((2, -2))\n",
        "print(interesting_states)"
      ]
    },
    {
      "cell_type": "markdown",
      "metadata": {
        "id": "yecQiKmbfGJ8"
      },
      "source": [
        "Other than the `Wavefunction` constructor, several utility methods are available to initialize wavefunctions. The function `fqe.get_wavefunction` builds a wavefunction with definite particle number and spin."
      ]
    },
    {
      "cell_type": "code",
      "execution_count": 9,
      "metadata": {
        "id": "b6i7CqbJfGJ8"
      },
      "outputs": [],
      "source": [
        "wfn_fqe = fqe.get_wavefunction(4, -2, 10)"
      ]
    },
    {
      "cell_type": "markdown",
      "metadata": {
        "id": "seYLBS3mfGJ8"
      },
      "source": [
        "The function `fqe.get_wavefunction_multiple` constructs multiple wavefunctions with different particle number, spin, and orbital number."
      ]
    },
    {
      "cell_type": "code",
      "execution_count": 10,
      "metadata": {
        "id": "3cp8kcbZfGJ9"
      },
      "outputs": [],
      "source": [
        "wfn_fqe1, wfn_fqe2 = fqe.get_wavefunction_multiple([[4, 0, 10], [5, -5, 10]])"
      ]
    },
    {
      "cell_type": "markdown",
      "metadata": {
        "id": "ZtUNu88PfGJ9"
      },
      "source": [
        "There are also functions like `fqe.get_number_conserving_wavefunction` and  `fqe.get_spin_conserving_wavefunction` to get number or spin conserving wavefunctions, respectively."
      ]
    },
    {
      "cell_type": "code",
      "execution_count": 11,
      "metadata": {
        "id": "5iRaXUXmfGJ9"
      },
      "outputs": [],
      "source": [
        "# Get a spin conserving wavefunction.\n",
        "spin_conserving_wfn = fqe.get_spin_conserving_wavefunction(2, 4)\n",
        "\n",
        "# Get a number conserving wavefunction.\n",
        "number_conserving_wfn = fqe.get_number_conserving_wavefunction(2, 4)"
      ]
    },
    {
      "cell_type": "markdown",
      "metadata": {
        "id": "olvcQ1SlfGJ9"
      },
      "source": [
        "### Conversions between FQE and Cirq wavefunction representations"
      ]
    },
    {
      "cell_type": "markdown",
      "metadata": {
        "id": "GFSKfVIjfGJ9"
      },
      "source": [
        "Wavefunctions on $n$ qubits in Cirq are represented by Numpy arrays with $2^n$ amplitudes."
      ]
    },
    {
      "cell_type": "code",
      "execution_count": 12,
      "metadata": {
        "colab": {
          "base_uri": "https://localhost:8080/"
        },
        "id": "nIQn8058fGJ9",
        "outputId": "008cfaef-8993-4749-e3d3-2d53a9dd9a78"
      },
      "outputs": [
        {
          "output_type": "stream",
          "name": "stdout",
          "text": [
            "Cirq wavefunction:\n",
            "(0.035381404179289755+0.22188532016666784j)\n",
            "(0.33240482279388833+0.06781801995663009j)\n",
            "(0.2595460115952728+0.15095454665766772j)\n",
            "(0.13217386545963178+0.20848300991786356j)\n",
            "(0.14154615786759717+0.10169659783275856j)\n",
            "(0.2195662003538022+0.08832073659097137j)\n",
            "(0.15889861600425298+0.24967525091553824j)\n",
            "(0.20709201148454054+0.021461616470677784j)\n",
            "(0.04284722467757695+0.02190525290884709j)\n",
            "(0.051693287967068534+0.11945703075157675j)\n",
            "(0.3236578703286288+0.1955406208036639j)\n",
            "(0.21565665540362133+0.30571656243283324j)\n",
            "(0.01626671687508401+0.11939708071175004j)\n",
            "(0.1891665909675747+0.05956970379761574j)\n",
            "(0.22547006021917035+0.15460695851859504j)\n",
            "(0.13470193514833229+0.13060769434307334j)\n"
          ]
        }
      ],
      "source": [
        "nqubits = 4\n",
        "\n",
        "cirq_wfn = np.random.rand(2**nqubits) + 1.0j * np.random.rand(2**nqubits)\n",
        "cirq_wfn /= np.linalg.norm(cirq_wfn)\n",
        "\n",
        "print(\"Cirq wavefunction:\")\n",
        "print(*cirq_wfn, sep=\"\\n\")"
      ]
    },
    {
      "cell_type": "markdown",
      "metadata": {
        "id": "44cT_WpHfGJ-"
      },
      "source": [
        "To convert from this representation to the FQE representation, the function `fqe.from_cirq` can be used."
      ]
    },
    {
      "cell_type": "code",
      "execution_count": 13,
      "metadata": {
        "colab": {
          "base_uri": "https://localhost:8080/"
        },
        "id": "wv9nrVipfGJ-",
        "outputId": "e7d15554-0fc9-4eda-a87e-d8cf0fe7c84b"
      },
      "outputs": [
        {
          "output_type": "stream",
          "name": "stdout",
          "text": [
            "Sector N = 0 : S_z = 0\n",
            "a'00'b'00' (0.035381404179289755+0.22188532016666784j)\n",
            "Sector N = 1 : S_z = -1\n",
            "a'00'b'01' (0.14154615786759717+0.10169659783275856j)\n",
            "a'00'b'10' (0.33240482279388833+0.06781801995663009j)\n",
            "Sector N = 1 : S_z = 1\n",
            "a'01'b'00' (0.04284722467757695+0.02190525290884709j)\n",
            "a'10'b'00' (0.2595460115952728+0.15095454665766772j)\n",
            "Sector N = 2 : S_z = -2\n",
            "a'00'b'11' (0.2195662003538022+0.08832073659097137j)\n",
            "Sector N = 2 : S_z = 0\n",
            "a'01'b'01' (0.01626671687508401+0.11939708071175004j)\n",
            "a'01'b'10' (0.051693287967068534+0.11945703075157675j)\n",
            "a'10'b'01' (-0.15889861600425298-0.24967525091553824j)\n",
            "a'10'b'10' (0.13217386545963178+0.20848300991786356j)\n",
            "Sector N = 2 : S_z = 2\n",
            "a'11'b'00' (0.3236578703286288+0.1955406208036639j)\n",
            "Sector N = 3 : S_z = -1\n",
            "a'01'b'11' (0.1891665909675747+0.05956970379761574j)\n",
            "a'10'b'11' (-0.20709201148454054-0.021461616470677784j)\n",
            "Sector N = 3 : S_z = 1\n",
            "a'11'b'01' (-0.22547006021917035-0.15460695851859504j)\n",
            "a'11'b'10' (0.21565665540362133+0.30571656243283324j)\n",
            "Sector N = 4 : S_z = 0\n",
            "a'11'b'11' (-0.13470193514833229-0.13060769434307334j)\n"
          ]
        }
      ],
      "source": [
        "fqe_wfn = fqe.from_cirq(cirq_wfn, thresh=0.0001)\n",
        "fqe_wfn.print_wfn()"
      ]
    },
    {
      "cell_type": "markdown",
      "metadata": {
        "id": "4B7j3MOhfGJ-"
      },
      "source": [
        "> *Note*: The `thresh` argument is the value below which amplitudes are considered zero."
      ]
    },
    {
      "cell_type": "markdown",
      "metadata": {
        "id": "H-GMs5NgfGJ-"
      },
      "source": [
        "We can convert back to the Cirq representation using `fqe._to_cirq`."
      ]
    },
    {
      "cell_type": "code",
      "execution_count": 14,
      "metadata": {
        "colab": {
          "base_uri": "https://localhost:8080/"
        },
        "id": "EDACHLfUfGJ-",
        "outputId": "d299800a-566f-4084-c6c9-96f49afcacfd"
      },
      "outputs": [
        {
          "output_type": "stream",
          "name": "stdout",
          "text": [
            "Cirq wavefunction from FQE:\n",
            "(0.035381404179289755+0.22188532016666784j)\n",
            "(0.33240482279388833+0.06781801995663009j)\n",
            "(0.2595460115952728+0.15095454665766772j)\n",
            "(0.13217386545963178+0.20848300991786356j)\n",
            "(0.14154615786759717+0.10169659783275856j)\n",
            "(0.2195662003538022+0.08832073659097137j)\n",
            "(0.15889861600425298+0.24967525091553824j)\n",
            "(0.20709201148454054+0.021461616470677784j)\n",
            "(0.04284722467757695+0.02190525290884709j)\n",
            "(0.051693287967068534+0.11945703075157675j)\n",
            "(0.3236578703286288+0.1955406208036639j)\n",
            "(0.21565665540362133+0.30571656243283324j)\n",
            "(0.01626671687508401+0.11939708071175004j)\n",
            "(0.1891665909675747+0.05956970379761574j)\n",
            "(0.22547006021917035+0.15460695851859504j)\n",
            "(0.13470193514833229+0.13060769434307334j)\n"
          ]
        }
      ],
      "source": [
        "cirq_wfn_from_fqe = fqe.to_cirq(fqe_wfn)\n",
        "\n",
        "print(\"Cirq wavefunction from FQE:\")\n",
        "print(*cirq_wfn_from_fqe, sep=\"\\n\")"
      ]
    },
    {
      "cell_type": "code",
      "execution_count": 15,
      "metadata": {
        "id": "L9W9FdZ8fGJ-"
      },
      "outputs": [],
      "source": [
        "assert np.allclose(cirq_wfn_from_fqe, cirq_wfn)"
      ]
    },
    {
      "cell_type": "markdown",
      "metadata": {
        "id": "zBpHWX9XfGJ-"
      },
      "source": [
        "An important thing to note in these conversions is the ordering of the $\\alpha$ and $\\beta$ strings in the converted wavefunctions.  The FQE uses the OpenFermion convention of interleaved $\\alpha$ and $\\beta$ orbitals.  Thus when converting to Cirq we first convert each bitstring into an OpenFermion operator and then call normal ordering."
      ]
    },
    {
      "cell_type": "markdown",
      "metadata": {
        "id": "0aUmT3zVfGJ-"
      },
      "source": [
        "### Printing and saving wavefunctions"
      ]
    },
    {
      "cell_type": "markdown",
      "metadata": {
        "id": "pWnXTD7nfGJ_"
      },
      "source": [
        "Printing is currently available as alpha beta strings followed by the coefficient as well as orbital occupation representation."
      ]
    },
    {
      "cell_type": "code",
      "execution_count": 16,
      "metadata": {
        "scrolled": true,
        "colab": {
          "base_uri": "https://localhost:8080/"
        },
        "id": "CCDv7zMOfGJ_",
        "outputId": "005adc6b-a70a-4d2e-ccce-7290e4372f86"
      },
      "outputs": [
        {
          "output_type": "stream",
          "name": "stdout",
          "text": [
            "String formatting\n",
            "Sector N = 0 : S_z = 0\n",
            "a'00'b'00' (0.035381404179289755+0.22188532016666784j)\n",
            "Sector N = 1 : S_z = -1\n",
            "a'00'b'01' (0.14154615786759717+0.10169659783275856j)\n",
            "a'00'b'10' (0.33240482279388833+0.06781801995663009j)\n",
            "Sector N = 1 : S_z = 1\n",
            "a'01'b'00' (0.04284722467757695+0.02190525290884709j)\n",
            "a'10'b'00' (0.2595460115952728+0.15095454665766772j)\n",
            "Sector N = 2 : S_z = -2\n",
            "a'00'b'11' (0.2195662003538022+0.08832073659097137j)\n",
            "Sector N = 2 : S_z = 0\n",
            "a'01'b'01' (0.01626671687508401+0.11939708071175004j)\n",
            "a'01'b'10' (0.051693287967068534+0.11945703075157675j)\n",
            "a'10'b'01' (-0.15889861600425298-0.24967525091553824j)\n",
            "a'10'b'10' (0.13217386545963178+0.20848300991786356j)\n",
            "Sector N = 2 : S_z = 2\n",
            "a'11'b'00' (0.3236578703286288+0.1955406208036639j)\n",
            "Sector N = 3 : S_z = -1\n",
            "a'01'b'11' (0.1891665909675747+0.05956970379761574j)\n",
            "a'10'b'11' (-0.20709201148454054-0.021461616470677784j)\n",
            "Sector N = 3 : S_z = 1\n",
            "a'11'b'01' (-0.22547006021917035-0.15460695851859504j)\n",
            "a'11'b'10' (0.21565665540362133+0.30571656243283324j)\n",
            "Sector N = 4 : S_z = 0\n",
            "a'11'b'11' (-0.13470193514833229-0.13060769434307334j)\n"
          ]
        }
      ],
      "source": [
        "print('String formatting')\n",
        "fqe_wfn.print_wfn(fmt='str')"
      ]
    },
    {
      "cell_type": "code",
      "execution_count": 17,
      "metadata": {
        "scrolled": true,
        "colab": {
          "base_uri": "https://localhost:8080/"
        },
        "id": "IQao6Sf4fGKA",
        "outputId": "53fafe1d-d863-4fda-acf3-5b454491f28a"
      },
      "outputs": [
        {
          "output_type": "stream",
          "name": "stdout",
          "text": [
            "Occupation formatting\n",
            "Sector N = 0 : S_z = 0\n",
            ".. (0.035381404179289755+0.22188532016666784j)\n",
            "Sector N = 1 : S_z = -1\n",
            ".b (0.14154615786759717+0.10169659783275856j)\n",
            "b. (0.33240482279388833+0.06781801995663009j)\n",
            "Sector N = 1 : S_z = 1\n",
            ".a (0.04284722467757695+0.02190525290884709j)\n",
            "a. (0.2595460115952728+0.15095454665766772j)\n",
            "Sector N = 2 : S_z = -2\n",
            "bb (0.2195662003538022+0.08832073659097137j)\n",
            "Sector N = 2 : S_z = 0\n",
            ".2 (0.01626671687508401+0.11939708071175004j)\n",
            "ba (0.051693287967068534+0.11945703075157675j)\n",
            "ab (-0.15889861600425298-0.24967525091553824j)\n",
            "2. (0.13217386545963178+0.20848300991786356j)\n",
            "Sector N = 2 : S_z = 2\n",
            "aa (0.3236578703286288+0.1955406208036639j)\n",
            "Sector N = 3 : S_z = -1\n",
            "b2 (0.1891665909675747+0.05956970379761574j)\n",
            "2b (-0.20709201148454054-0.021461616470677784j)\n",
            "Sector N = 3 : S_z = 1\n",
            "a2 (-0.22547006021917035-0.15460695851859504j)\n",
            "2a (0.21565665540362133+0.30571656243283324j)\n",
            "Sector N = 4 : S_z = 0\n",
            "22 (-0.13470193514833229-0.13060769434307334j)\n"
          ]
        }
      ],
      "source": [
        "print('Occupation formatting')\n",
        "fqe_wfn.print_wfn(fmt='occ')"
      ]
    },
    {
      "cell_type": "markdown",
      "metadata": {
        "id": "8y9jOGS6fGKA"
      },
      "source": [
        "Wavefunctions can also be saved to disk using the `save` method which takes a filename and optional path."
      ]
    },
    {
      "cell_type": "markdown",
      "metadata": {
        "id": "Wm6ehdCmfGKA"
      },
      "source": [
        "# Action on Wavefunctions: Fermionic algebra operations and their unitaries on the state"
      ]
    },
    {
      "cell_type": "markdown",
      "metadata": {
        "id": "nMgNFzl9fGKA"
      },
      "source": [
        "FermionOperators can be directly passed in to create a new wavefunction based on application of the operators.  The FermionOperators are parsed according to the interleaved $\\alpha$ $\\beta$ indexing of the spin-orbitals.  This means that odd index FermionOperators correspond to $\\beta$-spin orbitals and even are $\\alpha$-spin orbitals.  \n",
        "\n",
        "Sharp Edge:\n",
        "\n",
        "The user must be careful to not break the symmetry of the wavefunction.  If a request to apply an operator to a state takes the wavefunction outside of the specified symmetry sector the FQE will not execute the command.  Effectively, the FQE requires the user to have more knowledge of what type of operations their `Wavefunction` object can support."
      ]
    },
    {
      "cell_type": "code",
      "execution_count": 18,
      "metadata": {
        "id": "-op1b1GyfGKA"
      },
      "outputs": [],
      "source": [
        "from openfermion import FermionOperator, hermitian_conjugated\n",
        "\n",
        "ops = FermionOperator('2^ 0', 1.2)\n",
        "\n",
        "new_wfn = fqe_wfn.apply(ops + hermitian_conjugated(ops))"
      ]
    },
    {
      "cell_type": "markdown",
      "metadata": {
        "id": "XuEVKTlPfGKA"
      },
      "source": [
        "## Unitary operations"
      ]
    },
    {
      "cell_type": "markdown",
      "metadata": {
        "id": "aponRk2ffGKB"
      },
      "source": [
        "Any simulator backend must be able to perform unitary evolution on a state.  The FQE accomplishes this by implementing code for evolving a state via the action of a unitary generated by fermionic generators.  Given a fermion operator $g$, the unitary\n",
        "\n",
        "$$\n",
        "e^{-i (g + g^{\\dagger})}\n",
        "$$\n",
        "\n",
        "can be applied to the state.  It can be shown that this evolution operator can be rewritten as\n",
        "\n",
        "$$\n",
        "e^{-i(g + g^{\\dagger})\\epsilon } = \\cos\\left(\\epsilon\\right) \\mathbb{I}_{s}(gg^{\\dagger}) +  \\cos\\left(\\epsilon\\right) \\mathbb{I}_{s}(g^{\\dagger}g) - i\\sin\\left(\\epsilon\\right) \\left(g + g^{\\dagger}\\right) \\left[\\mathbb{I}_{s}(gg^{\\dagger}) + \\mathbb{I}_{s}(g^{\\dagger}g)\\right] + \\mathbb{I}_{!s}\n",
        "$$\n",
        "\n",
        "The $\\mathbb{I}_{!s}$ is for setting the coefficients of the unitary that are not in the subspace $\\mathcal{H}_{s} \\subset \\mathcal{H}$ where $gg^{\\dagger}$ is 0.   \n",
        "\n",
        "The user can specify a fermionic monomial in OpenFermion and use the `time_evolve` method of the `Wavefunction` object to call the evolution. All the rules for preserving symmetries must be maintained as before."
      ]
    },
    {
      "cell_type": "code",
      "execution_count": 19,
      "metadata": {
        "colab": {
          "base_uri": "https://localhost:8080/"
        },
        "id": "qMN41YHofGKB",
        "outputId": "ed1c1894-842a-4950-f683-29a77d7b17b8"
      },
      "outputs": [
        {
          "output_type": "stream",
          "name": "stdout",
          "text": [
            "Sector N = 0 : S_z = 0\n",
            "a'00'b'00' (0.035381404179289755+0.22188532016666784j)\n",
            "Sector N = 1 : S_z = -1\n",
            "a'00'b'01' (0.14154615786759717+0.10169659783275856j)\n",
            "a'00'b'10' (0.33240482279388833+0.06781801995663009j)\n",
            "Sector N = 1 : S_z = 1\n",
            "a'01'b'00' (-0.20334982715364822-0.11977784576788j)\n",
            "a'10'b'00' (0.16687979085007756+0.09444777882421843j)\n",
            "Sector N = 2 : S_z = -2\n",
            "a'00'b'11' (0.2195662003538022+0.08832073659097137j)\n",
            "Sector N = 2 : S_z = 0\n",
            "a'01'b'01' (0.14574359652341365+0.27592365034498506j)\n",
            "a'01'b'10' (-0.08861928122089341-0.12082306747052451j)\n",
            "a'10'b'01' (-0.06536191795213474-0.021436720423692615j)\n",
            "a'10'b'10' (0.11085463331444169+0.20769432825045617j)\n",
            "Sector N = 2 : S_z = 2\n",
            "a'11'b'00' (0.3236578703286288+0.1955406208036639j)\n",
            "Sector N = 3 : S_z = -1\n",
            "a'01'b'11' (0.27393023835021824+0.04837115696869336j)\n",
            "a'10'b'11' (0.06027706758294932+0.04085806854931068j)\n",
            "Sector N = 3 : S_z = 1\n",
            "a'11'b'01' (-0.22547006021917035-0.15460695851859504j)\n",
            "a'11'b'10' (0.21565665540362133+0.30571656243283324j)\n",
            "Sector N = 4 : S_z = 0\n",
            "a'11'b'11' (-0.13470193514833229-0.13060769434307334j)\n"
          ]
        }
      ],
      "source": [
        "i, j, theta = 0, 1, np.pi / 3\n",
        "op = (FermionOperator(((2 * i, 1), (2 * j, 0)), coefficient=-1j * theta) +\n",
        "      FermionOperator(((2 * j, 1), (2 * i, 0)), coefficient=1j * theta))\n",
        "\n",
        "new_wfn = fqe_wfn.time_evolve(1.0, op)\n",
        "\n",
        "new_wfn.print_wfn()"
      ]
    },
    {
      "cell_type": "markdown",
      "metadata": {
        "id": "56Ch7tekfGKB"
      },
      "source": [
        "In other tutorials we will do a deeper dive into supported time-evolution operations.  To serve a full functioning time-evolution platform the FQE also implements arbitrary time-evolution of full Hamiltonian operators consisting of sums of non-commuting terms.  The Taylor and Chebyshev expansion methods are used to do the exact time evolution.  "
      ]
    }
  ],
  "metadata": {
    "kernelspec": {
      "display_name": "Python 3",
      "language": "python",
      "name": "python3"
    },
    "language_info": {
      "codemirror_mode": {
        "name": "ipython",
        "version": 3
      },
      "file_extension": ".py",
      "mimetype": "text/x-python",
      "name": "python",
      "nbconvert_exporter": "python",
      "pygments_lexer": "ipython3",
      "version": "3.6.8"
    },
    "colab": {
      "provenance": [],
      "include_colab_link": true
    }
  },
  "nbformat": 4,
  "nbformat_minor": 0
}